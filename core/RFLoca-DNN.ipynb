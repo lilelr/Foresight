{
 "cells": [
  {
   "cell_type": "code",
   "execution_count": null,
   "id": "c5eb7c49",
   "metadata": {},
   "outputs": [],
   "source": [
    "import copy\n",
    " \n",
    "import matplotlib.pyplot as plt\n",
    "import numpy as np\n",
    "import pandas as pd\n",
    "import torch\n",
    "import torch.nn as nn\n",
    "import torch.optim as optim\n",
    "import tqdm\n",
    "from sklearn.model_selection import train_test_split\n",
    "from sklearn.datasets import fetch_california_housing\n",
    " \n",
    "\n",
    "import torch.nn as nn"
   ]
  },
  {
   "cell_type": "code",
   "execution_count": 8,
   "id": "a1b70064",
   "metadata": {},
   "outputs": [
    {
     "name": "stdout",
     "output_type": "stream",
     "text": [
      "MSE: 0.48\n",
      "RMSE: 0.69\n"
     ]
    },
    {
     "data": {
      "image/png": "[encoded data removed]",
      "text/plain": [
       "<Figure size 432x288 with 1 Axes>"
      ]
     },
     "metadata": {
      "needs_background": "light"
     },
     "output_type": "display_data"
    }
   ],
   "source": [
    "# DNN example from the website \n",
    "# Define the model\n",
    "model = nn.Sequential(\n",
    "    nn.Linear(8, 24),\n",
    "    nn.ReLU(),\n",
    "    nn.Linear(24, 12),\n",
    "    nn.ReLU(),\n",
    "    nn.Linear(12, 6),\n",
    "    nn.ReLU(),\n",
    "    nn.Linear(6, 1)\n",
    ")\n",
    "\n",
    "from sklearn.datasets import fetch_california_housing\n",
    "\n",
    "data = fetch_california_housing()\n",
    "print(data.feature_names)\n",
    "\n",
    "X, y = data.data, data.target\n",
    "\n",
    "import torch.nn as nn\n",
    "import torch.optim as optim\n",
    "\n",
    "# loss function and optimizer\n",
    "loss_fn = nn.MSELoss()  # mean square error\n",
    "optimizer = optim.Adam(model.parameters(), lr=0.0001)\n",
    "\n",
    "import copy\n",
    "import numpy as np\n",
    "import torch\n",
    "import tqdm\n",
    "from sklearn.model_selection import train_test_split\n",
    "\n",
    "# train-test split of the dataset\n",
    "X_train, X_test, y_train, y_test = train_test_split(X, y, train_size=0.7, shuffle=True)\n",
    "X_train = torch.tensor(X_train, dtype=torch.float32)\n",
    "y_train = torch.tensor(y_train, dtype=torch.float32).reshape(-1, 1)\n",
    "X_test = torch.tensor(X_test, dtype=torch.float32)\n",
    "y_test = torch.tensor(y_test, dtype=torch.float32).reshape(-1, 1)\n",
    "\n",
    "# training parameters\n",
    "n_epochs = 100   # number of epochs to run\n",
    "batch_size = 10  # size of each batch\n",
    "batch_start = torch.arange(0, len(X_train), batch_size)\n",
    "\n",
    "# Hold the best model\n",
    "best_mse = np.inf   # init to infinity\n",
    "best_weights = None\n",
    "history = []\n",
    "\n",
    "# training loop\n",
    "for epoch in range(n_epochs):\n",
    "    model.train()\n",
    "    with tqdm.tqdm(batch_start, unit=\"batch\", mininterval=0, disable=True) as bar:\n",
    "        bar.set_description(f\"Epoch {epoch}\")\n",
    "        for start in bar:\n",
    "            # take a batch\n",
    "            X_batch = X_train[start:start+batch_size]\n",
    "            y_batch = y_train[start:start+batch_size]\n",
    "            # forward pass\n",
    "            y_pred = model(X_batch)\n",
    "            loss = loss_fn(y_pred, y_batch)\n",
    "            # backward pass\n",
    "            optimizer.zero_grad()\n",
    "            loss.backward()\n",
    "            # update weights\n",
    "            optimizer.step()\n",
    "            # print progress\n",
    "            bar.set_postfix(mse=float(loss))\n",
    "    # evaluate accuracy at end of each epoch\n",
    "    model.eval()\n",
    "    y_pred = model(X_test)\n",
    "    mse = loss_fn(y_pred, y_test)\n",
    "    mse = float(mse)\n",
    "    history.append(mse)\n",
    "    if mse < best_mse:\n",
    "        best_mse = mse\n",
    "        best_weights = copy.deepcopy(model.state_dict())\n",
    "\n",
    "# restore model and return best accuracy\n",
    "model.load_state_dict(best_weights)\n",
    "\n",
    "print(\"MSE: %.2f\" % best_mse)\n",
    "print(\"RMSE: %.2f\" % np.sqrt(best_mse))\n",
    "plt.plot(history)\n",
    "plt.show()"
   ]
  },
  {
   "cell_type": "code",
   "execution_count": 47,
   "id": "4486c52e",
   "metadata": {},
   "outputs": [
    {
     "data": {
      "text/html": [
       "<div>\n",
       "<style scoped>\n",
       "    .dataframe tbody tr th:only-of-type {\n",
       "        vertical-align: middle;\n",
       "    }\n",
       "\n",
       "    .dataframe tbody tr th {\n",
       "        vertical-align: top;\n",
       "    }\n",
       "\n",
       "    .dataframe thead th {\n",
       "        text-align: right;\n",
       "    }\n",
       "</style>\n",
       "<table border=\"1\" class=\"dataframe\">\n",
       "  <thead>\n",
       "    <tr style=\"text-align: right;\">\n",
       "      <th></th>\n",
       "      <th>executor_instances</th>\n",
       "      <th>executor_cores</th>\n",
       "      <th>executor-memory (MB)</th>\n",
       "      <th>input data size (MB)</th>\n",
       "      <th>query</th>\n",
       "      <th>dag depth</th>\n",
       "      <th>dag width</th>\n",
       "      <th>stage_count</th>\n",
       "      <th>predicted_runtime(seconds)</th>\n",
       "      <th>actual</th>\n",
       "      <th>...</th>\n",
       "      <th>Subquery</th>\n",
       "      <th>Union</th>\n",
       "      <th>Expand</th>\n",
       "      <th>ExchangeHashpartitioning</th>\n",
       "      <th>ExchangeSinglePartition</th>\n",
       "      <th>ReusedExchange</th>\n",
       "      <th>Empty</th>\n",
       "      <th>TakeOrderedAndProject</th>\n",
       "      <th>CollectLimit</th>\n",
       "      <th>Error</th>\n",
       "    </tr>\n",
       "  </thead>\n",
       "  <tbody>\n",
       "    <tr>\n",
       "      <th>0</th>\n",
       "      <td>10</td>\n",
       "      <td>2</td>\n",
       "      <td>4000</td>\n",
       "      <td>500</td>\n",
       "      <td>Q11</td>\n",
       "      <td>4</td>\n",
       "      <td>8</td>\n",
       "      <td>21</td>\n",
       "      <td>338</td>\n",
       "      <td>210</td>\n",
       "      <td>...</td>\n",
       "      <td>0</td>\n",
       "      <td>0</td>\n",
       "      <td>0</td>\n",
       "      <td>16</td>\n",
       "      <td>0</td>\n",
       "      <td>0</td>\n",
       "      <td>0</td>\n",
       "      <td>1</td>\n",
       "      <td>0</td>\n",
       "      <td>0</td>\n",
       "    </tr>\n",
       "    <tr>\n",
       "      <th>1</th>\n",
       "      <td>10</td>\n",
       "      <td>2</td>\n",
       "      <td>4000</td>\n",
       "      <td>500</td>\n",
       "      <td>Q12</td>\n",
       "      <td>3</td>\n",
       "      <td>1</td>\n",
       "      <td>5</td>\n",
       "      <td>40</td>\n",
       "      <td>46</td>\n",
       "      <td>...</td>\n",
       "      <td>0</td>\n",
       "      <td>0</td>\n",
       "      <td>0</td>\n",
       "      <td>2</td>\n",
       "      <td>0</td>\n",
       "      <td>0</td>\n",
       "      <td>1</td>\n",
       "      <td>1</td>\n",
       "      <td>0</td>\n",
       "      <td>0</td>\n",
       "    </tr>\n",
       "    <tr>\n",
       "      <th>2</th>\n",
       "      <td>10</td>\n",
       "      <td>2</td>\n",
       "      <td>4000</td>\n",
       "      <td>500</td>\n",
       "      <td>Q13</td>\n",
       "      <td>2</td>\n",
       "      <td>1</td>\n",
       "      <td>7</td>\n",
       "      <td>32</td>\n",
       "      <td>66</td>\n",
       "      <td>...</td>\n",
       "      <td>0</td>\n",
       "      <td>0</td>\n",
       "      <td>0</td>\n",
       "      <td>0</td>\n",
       "      <td>1</td>\n",
       "      <td>0</td>\n",
       "      <td>0</td>\n",
       "      <td>0</td>\n",
       "      <td>0</td>\n",
       "      <td>1</td>\n",
       "    </tr>\n",
       "    <tr>\n",
       "      <th>3</th>\n",
       "      <td>10</td>\n",
       "      <td>2</td>\n",
       "      <td>4000</td>\n",
       "      <td>500</td>\n",
       "      <td>Q15</td>\n",
       "      <td>4</td>\n",
       "      <td>3</td>\n",
       "      <td>7</td>\n",
       "      <td>121</td>\n",
       "      <td>108</td>\n",
       "      <td>...</td>\n",
       "      <td>0</td>\n",
       "      <td>0</td>\n",
       "      <td>0</td>\n",
       "      <td>5</td>\n",
       "      <td>0</td>\n",
       "      <td>0</td>\n",
       "      <td>0</td>\n",
       "      <td>1</td>\n",
       "      <td>0</td>\n",
       "      <td>0</td>\n",
       "    </tr>\n",
       "    <tr>\n",
       "      <th>4</th>\n",
       "      <td>10</td>\n",
       "      <td>2</td>\n",
       "      <td>4000</td>\n",
       "      <td>500</td>\n",
       "      <td>Q16</td>\n",
       "      <td>3</td>\n",
       "      <td>3</td>\n",
       "      <td>8</td>\n",
       "      <td>278</td>\n",
       "      <td>138</td>\n",
       "      <td>...</td>\n",
       "      <td>0</td>\n",
       "      <td>0</td>\n",
       "      <td>0</td>\n",
       "      <td>3</td>\n",
       "      <td>1</td>\n",
       "      <td>0</td>\n",
       "      <td>0</td>\n",
       "      <td>0</td>\n",
       "      <td>0</td>\n",
       "      <td>1</td>\n",
       "    </tr>\n",
       "  </tbody>\n",
       "</table>\n",
       "<p>5 rows × 28 columns</p>\n",
       "</div>"
      ],
      "text/plain": [
       "   executor_instances  executor_cores  executor-memory (MB)  \\\n",
       "0                  10               2                  4000   \n",
       "1                  10               2                  4000   \n",
       "2                  10               2                  4000   \n",
       "3                  10               2                  4000   \n",
       "4                  10               2                  4000   \n",
       "\n",
       "   input data size (MB) query  dag depth   dag width  stage_count  \\\n",
       "0                   500   Q11          4           8           21   \n",
       "1                   500   Q12          3           1            5   \n",
       "2                   500   Q13          2           1            7   \n",
       "3                   500   Q15          4           3            7   \n",
       "4                   500   Q16          3           3            8   \n",
       "\n",
       "    predicted_runtime(seconds)  actual  ...  Subquery  Union  Expand  \\\n",
       "0                          338     210  ...         0      0       0   \n",
       "1                           40      46  ...         0      0       0   \n",
       "2                           32      66  ...         0      0       0   \n",
       "3                          121     108  ...         0      0       0   \n",
       "4                          278     138  ...         0      0       0   \n",
       "\n",
       "   ExchangeHashpartitioning  ExchangeSinglePartition  ReusedExchange  Empty  \\\n",
       "0                        16                        0               0      0   \n",
       "1                         2                        0               0      1   \n",
       "2                         0                        1               0      0   \n",
       "3                         5                        0               0      0   \n",
       "4                         3                        1               0      0   \n",
       "\n",
       "   TakeOrderedAndProject  CollectLimit  Error  \n",
       "0                      1             0      0  \n",
       "1                      1             0      0  \n",
       "2                      0             0      1  \n",
       "3                      1             0      0  \n",
       "4                      0             0      1  \n",
       "\n",
       "[5 rows x 28 columns]"
      ]
     },
     "execution_count": 47,
     "metadata": {},
     "output_type": "execute_result"
    }
   ],
   "source": [
    "## begin for RFLoca\n",
    "prefix = \"/home/lemaker/open-source/Lab/SparkSQLAnalyticalModelCode/results/\"\n",
    "path=prefix+\"Rfloca-TPC-DS-500GB-training.csv\"\n",
    "df = pd.read_csv(path)  \n",
    "df.head()"
   ]
  },
  {
   "cell_type": "code",
   "execution_count": 48,
   "id": "685b2757",
   "metadata": {},
   "outputs": [
    {
     "data": {
      "text/plain": [
       "(227, 28)"
      ]
     },
     "execution_count": 48,
     "metadata": {},
     "output_type": "execute_result"
    }
   ],
   "source": [
    "df.shape"
   ]
  },
  {
   "cell_type": "code",
   "execution_count": 49,
   "id": "5e5cbd37",
   "metadata": {},
   "outputs": [
    {
     "name": "stdout",
     "output_type": "stream",
     "text": [
      "['executor_instances', 'executor_cores', 'executor-memory (MB)', 'input data size (MB)', 'query', 'dag depth', ' dag width', 'stage_count', ' predicted_runtime(seconds)', 'actual', 'FileScan', 'Filter', 'BroadcastHashJoin', 'BroadcastExchange', 'HashAggregate', 'Project', 'Sort', 'SortMergeJoin', 'Subquery', 'Union', 'Expand', 'ExchangeHashpartitioning', 'ExchangeSinglePartition', 'ReusedExchange', 'Empty', 'TakeOrderedAndProject', 'CollectLimit', 'Error']\n"
     ]
    }
   ],
   "source": [
    "columns_list = list(df)\n",
    "print(columns_list)"
   ]
  },
  {
   "cell_type": "code",
   "execution_count": 50,
   "id": "121efd75",
   "metadata": {},
   "outputs": [],
   "source": [
    "training_x = df[['executor_instances', 'executor_cores', 'executor-memory (MB)', 'input data size (MB)','dag depth', ' dag width', 'FileScan', 'Filter', 'BroadcastHashJoin', 'BroadcastExchange', 'HashAggregate', 'Project', 'Sort', 'SortMergeJoin', 'Subquery', 'Union', 'Expand', 'ExchangeHashpartitioning', 'ExchangeSinglePartition', 'ReusedExchange', 'Empty', 'TakeOrderedAndProject', 'CollectLimit', 'Error']].to_numpy()\n",
    "training_y = df[['actual']].to_numpy()"
   ]
  },
  {
   "cell_type": "code",
   "execution_count": 51,
   "id": "5f29c5e0",
   "metadata": {},
   "outputs": [
    {
     "data": {
      "text/plain": [
       "((158, 28), (69, 28))"
      ]
     },
     "execution_count": 51,
     "metadata": {},
     "output_type": "execute_result"
    }
   ],
   "source": [
    "train,test = train_test_split(df, train_size=0.7,shuffle=True)\n",
    "\n",
    "\n",
    "X_train = train[['executor_instances', 'executor_cores', 'executor-memory (MB)', 'input data size (MB)','dag depth', ' dag width', 'FileScan', 'Filter', 'BroadcastHashJoin', 'BroadcastExchange', 'HashAggregate', 'Project', 'Sort', 'SortMergeJoin', 'Subquery', 'Union', 'Expand', 'ExchangeHashpartitioning', 'ExchangeSinglePartition', 'ReusedExchange', 'Empty', 'TakeOrderedAndProject', 'CollectLimit', 'Error']].to_numpy()\n",
    "y_train = train[['actual']].to_numpy()\n",
    "\n",
    "# train_x = train[[c for c in df.columns if c != 'label']].values\n",
    "# test_x = test[[c for c in df.columns if c != 'label']].values\n",
    "\n",
    "# train_y = train.label.values.reshape(-1, 1)\n",
    "# test_y = test.label.values.reshape(-1, 1)\n",
    "X_test = test[['executor_instances', 'executor_cores', 'executor-memory (MB)', 'input data size (MB)','dag depth', ' dag width', 'FileScan', 'Filter', 'BroadcastHashJoin', 'BroadcastExchange', 'HashAggregate', 'Project', 'Sort', 'SortMergeJoin', 'Subquery', 'Union', 'Expand', 'ExchangeHashpartitioning', 'ExchangeSinglePartition', 'ReusedExchange', 'Empty', 'TakeOrderedAndProject', 'CollectLimit', 'Error']].to_numpy()\n",
    "y_test = test[['actual']].to_numpy()\n",
    "train.shape,  test.shape"
   ]
  },
  {
   "cell_type": "code",
   "execution_count": 52,
   "id": "e2d75386",
   "metadata": {},
   "outputs": [],
   "source": [
    "X_train = torch.tensor(X_train, dtype=torch.float32)\n",
    "y_train = torch.tensor(y_train, dtype=torch.float32).reshape(-1, 1)\n",
    "X_test = torch.tensor(X_test, dtype=torch.float32)\n",
    "y_test = torch.tensor(y_test, dtype=torch.float32).reshape(-1, 1)\n"
   ]
  },
  {
   "cell_type": "code",
   "execution_count": 40,
   "id": "feff7714",
   "metadata": {},
   "outputs": [
    {
     "data": {
      "text/plain": [
       "(torch.Size([59, 24]), torch.Size([59, 1]))"
      ]
     },
     "execution_count": 40,
     "metadata": {},
     "output_type": "execute_result"
    }
   ],
   "source": [
    "X_train.shape, y_train.shape"
   ]
  },
  {
   "cell_type": "code",
   "execution_count": 62,
   "id": "52df2df4",
   "metadata": {},
   "outputs": [
    {
     "name": "stdout",
     "output_type": "stream",
     "text": [
      "MSE: 36084.13\n",
      "RMSE: 189.96\n"
     ]
    },
    {
     "data": {
      "image/png": "[encoded data removed]",
      "text/plain": [
       "<Figure size 432x288 with 1 Axes>"
      ]
     },
     "metadata": {
      "needs_background": "light"
     },
     "output_type": "display_data"
    }
   ],
   "source": [
    "# Define the model\n",
    "model = nn.Sequential(\n",
    "    nn.Linear(24, 120),\n",
    "    nn.ReLU(),\n",
    "     nn.Linear(120, 60),\n",
    "    nn.ReLU(),\n",
    "    nn.Linear(60, 30),\n",
    "    nn.ReLU(),\n",
    "    nn.Linear(30, 15),\n",
    "    nn.ReLU(),\n",
    "    nn.Linear(15, 8),\n",
    "    nn.ReLU(),\n",
    "    nn.Linear(8, 1)\n",
    ")\n",
    "\n",
    "\n",
    "import torch.nn as nn\n",
    "import torch.optim as optim\n",
    "\n",
    "# loss function and optimizer\n",
    "loss_fn = nn.MSELoss()  # mean square error\n",
    "optimizer = optim.Adam(model.parameters(), lr=0.0001)\n",
    "\n",
    "\n",
    "# training parameters\n",
    "n_epochs = 100   # number of epochs to run\n",
    "batch_size = 2  # size of each batch\n",
    "batch_start = torch.arange(0, len(X_train), batch_size)\n",
    "\n",
    "# Hold the best model\n",
    "best_mse = np.inf   # init to infinity\n",
    "best_weights = None\n",
    "history = []\n",
    "\n",
    "# training loop\n",
    "for epoch in range(n_epochs):\n",
    "    model.train()\n",
    "    with tqdm.tqdm(batch_start, unit=\"batch\", mininterval=0, disable=True) as bar:\n",
    "        bar.set_description(f\"Epoch {epoch}\")\n",
    "        for start in bar:\n",
    "            # take a batch\n",
    "            X_batch = X_train[start:start+batch_size]\n",
    "            y_batch = y_train[start:start+batch_size]\n",
    "            # forward pass\n",
    "            y_pred = model(X_batch)\n",
    "            loss = loss_fn(y_pred, y_batch)\n",
    "            # backward pass\n",
    "            optimizer.zero_grad()\n",
    "            loss.backward()\n",
    "            # update weights\n",
    "            optimizer.step()\n",
    "            # print progress\n",
    "            bar.set_postfix(mse=float(loss))\n",
    "    # evaluate accuracy at end of each epoch\n",
    "    model.eval()\n",
    "    y_pred = model(X_test)\n",
    "    mse = loss_fn(y_pred, y_test)\n",
    "    mse = float(mse)\n",
    "    history.append(mse)\n",
    "    if mse < best_mse:\n",
    "        best_mse = mse\n",
    "        best_weights = copy.deepcopy(model.state_dict())\n",
    "\n",
    "# restore model and return best accuracy\n",
    "model.load_state_dict(best_weights)\n",
    "\n",
    "print(\"MSE: %.2f\" % best_mse)\n",
    "print(\"RMSE: %.2f\" % np.sqrt(best_mse))\n",
    "plt.plot(history)\n",
    "plt.show()"
   ]
  },
  {
   "cell_type": "code",
   "execution_count": 63,
   "id": "1b6a0741",
   "metadata": {},
   "outputs": [
    {
     "name": "stdout",
     "output_type": "stream",
     "text": [
      "24\n",
      "24\n",
      "24\n",
      "24\n",
      "24\n"
     ]
    }
   ],
   "source": [
    "\n",
    "predict_q1 = np.array([10,2,4000,500, 4,3 ,6,8,3,3,6,8,4,2,0,0,0,6,0,0,0,1,0,0])\n",
    "print(len(predict_q1))\n",
    "predict_q1 = torch.tensor(predict_q1, dtype=torch.float32)\n",
    "                          \n",
    "predict_q91 = np.array([14,2,4000,500,3,2,7,7,5,5,2,9,3,1,0,0,0,3,0,0,1,0,0,0])\n",
    "print(len(predict_q91))\n",
    "predict_q91 = torch.tensor(predict_q91, dtype=torch.float32)\n",
    "\n",
    "predict_q92 = np.array([14,2,4000,500,3,2,5,6,3,3,3,7,2,1,0,0,0,2,1,0,0,0,0,1])\n",
    "print(len(predict_q92))\n",
    "predict_q92 = torch.tensor(predict_q92, dtype=torch.float32)\n",
    "\n",
    "predict_q93 = np.array([14,2,4000,500,3,2,3,2,1,1,2,3,2,1,0,0,0,3,0,0,0,1,0,0])\n",
    "print(len(predict_q93))\n",
    "predict_q93 = torch.tensor(predict_q93, dtype=torch.float32)\n",
    "\n",
    "predict_q94 = np.array([14,2,4000,500,3,3,6,4,3,3,3,7,3,2,0,0,0,3,1,0,0,0,0,1])\n",
    "print(len(predict_q94))\n",
    "predict_q94 = torch.tensor(predict_q94, dtype=torch.float32)\n",
    "                          \n",
    "                          "
   ]
  },
  {
   "cell_type": "code",
   "execution_count": 64,
   "id": "702f1394",
   "metadata": {},
   "outputs": [
    {
     "name": "stdout",
     "output_type": "stream",
     "text": [
      "q1 -> 113.57866668701172 (expected 51 s)\n",
      "q91 -> 113.37533569335938 (expected 43 s)\n",
      "q92 -> 112.86041259765625 (expected 49 s)\n",
      "q93 -> 112.56729125976562 (expected 192 s)\n",
      "q94 -> 112.99073791503906 (expected 72 s)\n"
     ]
    }
   ],
   "source": [
    "model.eval()\n",
    "\n",
    "with torch.no_grad():\n",
    "    # Test out inference with 5 samples\n",
    "    y_pred = model(predict_q1)\n",
    "    print(f\"q1 -> {y_pred[0].numpy()} (expected 51 s)\")\n",
    "    y_pred = model(predict_q91)\n",
    "    print(f\"q91 -> {y_pred[0].numpy()} (expected 43 s)\")\n",
    "    y_pred = model(predict_q92)\n",
    "    print(f\"q92 -> {y_pred[0].numpy()} (expected 49 s)\")\n",
    "    y_pred = model(predict_q93)\n",
    "    print(f\"q93 -> {y_pred[0].numpy()} (expected 192 s)\")\n",
    "    y_pred = model(predict_q94)\n",
    "    print(f\"q94 -> {y_pred[0].numpy()} (expected 72 s)\")"
   ]
  },
  {
   "cell_type": "code",
   "execution_count": 82,
   "id": "ea7c5f00",
   "metadata": {},
   "outputs": [
    {
     "name": "stdout",
     "output_type": "stream",
     "text": [
      "(227, 28)\n"
     ]
    }
   ],
   "source": [
    "## testing for RFLoca\n",
    "prefix = \"/home/lemaker/open-source/Lab/SparkSQLAnalyticalModelCode/results/\"\n",
    "path=prefix+\"Rfloca-TPC-DS-500GB-training.csv\"\n",
    "df = pd.read_csv(path)  \n",
    "print(df.shape)\n",
    "test_data = df[['executor_instances', 'executor_cores', 'executor-memory (MB)', 'input data size (MB)','dag depth', ' dag width', 'FileScan', 'Filter', 'BroadcastHashJoin', 'BroadcastExchange', 'HashAggregate', 'Project', 'Sort', 'SortMergeJoin', 'Subquery', 'Union', 'Expand', 'ExchangeHashpartitioning', 'ExchangeSinglePartition', 'ReusedExchange', 'Empty', 'TakeOrderedAndProject', 'CollectLimit', 'Error']].to_numpy()\n",
    "\n",
    "test_data = torch.tensor(test_data, dtype=torch.float32)"
   ]
  },
  {
   "cell_type": "code",
   "execution_count": 84,
   "id": "800fac01",
   "metadata": {},
   "outputs": [],
   "source": [
    "\n",
    "\n",
    "y_test_pred = model(test_data)\n",
    "y_test_np = y_test_pred.detach().numpy()\n",
    "y_test_pd = pd.DataFrame(y_test_np)\n",
    "y_test_pd\n",
    "df[\"RFLoca\"] = y_test_pd"
   ]
  },
  {
   "cell_type": "code",
   "execution_count": 86,
   "id": "7c4cae06",
   "metadata": {},
   "outputs": [
    {
     "data": {
      "text/html": [
       "<div>\n",
       "<style scoped>\n",
       "    .dataframe tbody tr th:only-of-type {\n",
       "        vertical-align: middle;\n",
       "    }\n",
       "\n",
       "    .dataframe tbody tr th {\n",
       "        vertical-align: top;\n",
       "    }\n",
       "\n",
       "    .dataframe thead th {\n",
       "        text-align: right;\n",
       "    }\n",
       "</style>\n",
       "<table border=\"1\" class=\"dataframe\">\n",
       "  <thead>\n",
       "    <tr style=\"text-align: right;\">\n",
       "      <th></th>\n",
       "      <th>query</th>\n",
       "      <th>RFLoca</th>\n",
       "      <th>actual</th>\n",
       "    </tr>\n",
       "  </thead>\n",
       "  <tbody>\n",
       "    <tr>\n",
       "      <th>0</th>\n",
       "      <td>Q11</td>\n",
       "      <td>115.353943</td>\n",
       "      <td>210</td>\n",
       "    </tr>\n",
       "    <tr>\n",
       "      <th>1</th>\n",
       "      <td>Q12</td>\n",
       "      <td>112.514938</td>\n",
       "      <td>46</td>\n",
       "    </tr>\n",
       "    <tr>\n",
       "      <th>2</th>\n",
       "      <td>Q13</td>\n",
       "      <td>112.758934</td>\n",
       "      <td>66</td>\n",
       "    </tr>\n",
       "    <tr>\n",
       "      <th>3</th>\n",
       "      <td>Q15</td>\n",
       "      <td>113.043846</td>\n",
       "      <td>108</td>\n",
       "    </tr>\n",
       "    <tr>\n",
       "      <th>4</th>\n",
       "      <td>Q16</td>\n",
       "      <td>113.019630</td>\n",
       "      <td>138</td>\n",
       "    </tr>\n",
       "  </tbody>\n",
       "</table>\n",
       "</div>"
      ],
      "text/plain": [
       "  query      RFLoca  actual\n",
       "0   Q11  115.353943     210\n",
       "1   Q12  112.514938      46\n",
       "2   Q13  112.758934      66\n",
       "3   Q15  113.043846     108\n",
       "4   Q16  113.019630     138"
      ]
     },
     "execution_count": 86,
     "metadata": {},
     "output_type": "execute_result"
    }
   ],
   "source": [
    "df[[\"query\",\"RFLoca\",\"actual\"]].head()"
   ]
  },
  {
   "cell_type": "code",
   "execution_count": 87,
   "id": "0dc6a263",
   "metadata": {},
   "outputs": [],
   "source": [
    "df[\"reloca_error\"] = abs(df[\"actual\"]-df[\"RFLoca\"])/df[\"actual\"]"
   ]
  },
  {
   "cell_type": "code",
   "execution_count": 90,
   "id": "1ca99dbf",
   "metadata": {},
   "outputs": [
    {
     "data": {
      "text/plain": [
       "0.7944609092285282"
      ]
     },
     "execution_count": 90,
     "metadata": {},
     "output_type": "execute_result"
    }
   ],
   "source": [
    "df[\"reloca_error\"].mean()"
   ]
  },
  {
   "cell_type": "code",
   "execution_count": 91,
   "id": "51226e15",
   "metadata": {},
   "outputs": [],
   "source": [
    " #append data frame to CSV file\n",
    "    \n",
    "prefix = \"/home/lemaker/open-source/Lab/SparkSQLAnalyticalModelCode/results/\"\n",
    "path=prefix+\"Rfloca-TPC-DS-500GB-training-prediction.csv\"\n",
    "df.to_csv(path)"
   ]
  },
  {
   "cell_type": "code",
   "execution_count": null,
   "id": "b6a18bf7",
   "metadata": {},
   "outputs": [],
   "source": [
    "query_name = \"Q\"+str(i)        \n",
    "query_df = df[df[\"query\"]==query_name]\n",
    "if not query_df.empty:"
   ]
  }
 ],
 "metadata": {
  "kernelspec": {
   "display_name": "base",
   "language": "python",
   "name": "base"
  },
  "language_info": {
   "codemirror_mode": {
    "name": "ipython",
    "version": 3
   },
   "file_extension": ".py",
   "mimetype": "text/x-python",
   "name": "python",
   "nbconvert_exporter": "python",
   "pygments_lexer": "ipython3",
   "version": "3.9.7"
  }
 },
 "nbformat": 4,
 "nbformat_minor": 5
}
